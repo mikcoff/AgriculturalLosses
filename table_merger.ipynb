{
  "nbformat": 4,
  "nbformat_minor": 0,
  "metadata": {
    "colab": {
      "provenance": []
    },
    "kernelspec": {
      "name": "python3",
      "display_name": "Python 3"
    },
    "language_info": {
      "name": "python"
    }
  },
  "cells": [
    {
      "cell_type": "code",
      "source": [
        "import pandas as pd"
      ],
      "metadata": {
        "id": "yRQLx62G4JCc"
      },
      "execution_count": null,
      "outputs": []
    },
    {
      "cell_type": "code",
      "source": [
        "from google.colab import drive\n",
        "drive.mount('/content/drive')"
      ],
      "metadata": {
        "colab": {
          "base_uri": "https://localhost:8080/"
        },
        "id": "rH7QKY6C586t",
        "outputId": "a55a95c0-a593-4642-9b73-221723ab57d1"
      },
      "execution_count": null,
      "outputs": [
        {
          "output_type": "stream",
          "name": "stdout",
          "text": [
            "Drive already mounted at /content/drive; to attempt to forcibly remount, call drive.mount(\"/content/drive\", force_remount=True).\n"
          ]
        }
      ]
    },
    {
      "cell_type": "code",
      "source": [
        "!ls /content/drive/MyDrive/agriculture"
      ],
      "metadata": {
        "colab": {
          "base_uri": "https://localhost:8080/"
        },
        "id": "6ZHaBETD6JcN",
        "outputId": "fcd0c538-4fb5-4fd5-c183-e6370a327517"
      },
      "execution_count": null,
      "outputs": [
        {
          "output_type": "stream",
          "name": "stdout",
          "text": [
            "CountiesStats_winter_wheat_2010.csv  CountiesStats_winter_wheat_2017.csv\n",
            "CountiesStats_winter_wheat_2011.csv  CountiesStats_winter_wheat_2018.csv\n",
            "CountiesStats_winter_wheat_2012.csv  CountiesStats_winter_wheat_2019.csv\n",
            "CountiesStats_winter_wheat_2013.csv  CountiesStats_winter_wheat_2020.csv\n",
            "CountiesStats_winter_wheat_2014.csv  filtered_yield\n",
            "CountiesStats_winter_wheat_2015.csv  yield_winter_wheat.csv\n",
            "CountiesStats_winter_wheat_2016.csv\n"
          ]
        }
      ]
    },
    {
      "cell_type": "code",
      "execution_count": null,
      "metadata": {
        "colab": {
          "base_uri": "https://localhost:8080/"
        },
        "id": "_8Y5j_c13wo9",
        "outputId": "c170c0c4-a6bc-487a-b6cb-f592d6ecd661"
      },
      "outputs": [
        {
          "output_type": "stream",
          "name": "stdout",
          "text": [
            "Saved: /content/drive/MyDrive/agriculture/filtered_yield/yield_winter_wheat_2010.csv\n",
            "Saved: /content/drive/MyDrive/agriculture/filtered_yield/yield_winter_wheat_2011.csv\n",
            "Saved: /content/drive/MyDrive/agriculture/filtered_yield/yield_winter_wheat_2012.csv\n",
            "Saved: /content/drive/MyDrive/agriculture/filtered_yield/yield_winter_wheat_2013.csv\n",
            "Saved: /content/drive/MyDrive/agriculture/filtered_yield/yield_winter_wheat_2014.csv\n",
            "Saved: /content/drive/MyDrive/agriculture/filtered_yield/yield_winter_wheat_2015.csv\n",
            "Saved: /content/drive/MyDrive/agriculture/filtered_yield/yield_winter_wheat_2016.csv\n",
            "Saved: /content/drive/MyDrive/agriculture/filtered_yield/yield_winter_wheat_2017.csv\n",
            "Saved: /content/drive/MyDrive/agriculture/filtered_yield/yield_winter_wheat_2018.csv\n",
            "Saved: /content/drive/MyDrive/agriculture/filtered_yield/yield_winter_wheat_2019.csv\n",
            "Saved: /content/drive/MyDrive/agriculture/filtered_yield/yield_winter_wheat_2020.csv\n",
            "Saved: /content/drive/MyDrive/agriculture/filtered_yield/yield_winter_wheat_2021.csv\n",
            "Saved: /content/drive/MyDrive/agriculture/filtered_yield/yield_winter_wheat_2022.csv\n",
            "Saved: /content/drive/MyDrive/agriculture/filtered_yield/yield_winter_wheat_2023.csv\n",
            "Saved: /content/drive/MyDrive/agriculture/filtered_yield/yield_winter_wheat_2024.csv\n",
            "merged year 2010\n",
            "merged year 2011\n",
            "merged year 2012\n",
            "merged year 2013\n",
            "merged year 2014\n",
            "merged year 2015\n",
            "merged year 2016\n",
            "merged year 2017\n",
            "merged year 2018\n",
            "merged year 2019\n",
            "merged year 2020\n"
          ]
        }
      ],
      "source": [
        "df = pd.read_csv(\"/content/drive/MyDrive/agriculture/yield_winter_wheat.csv\")\n",
        "df[\"GEOID\"] = df[\"State ANSI\"]*1000 + df[\"County ANSI\"]\n",
        "df = df[[\"GEOID\",\"Year\", \"Value\"]]\n",
        "#df = df.dropna()\n",
        "for year, group in df.groupby(\"Year\"):\n",
        "    filename = f\"/content/drive/MyDrive/agriculture/filtered_yield/yield_winter_wheat_{year}.csv\"\n",
        "    group = group.reset_index()[[\"GEOID\", \"Value\"]]\n",
        "    group.dropna()\n",
        "    group.to_csv(filename, index=False)\n",
        "    print(f\"Saved: {filename}\")\n",
        "\n",
        "for year in range(2010, 2020+1):\n",
        "    df1 = pd.read_csv(f\"/content/drive/MyDrive/agriculture/filtered_yield/yield_winter_wheat_{year}.csv\")\n",
        "    df2 = pd.read_csv(f\"/content/drive/MyDrive/agriculture/CountiesStats/CountiesStats_winter_wheat_{year}.csv\")\n",
        "\n",
        "    df2.drop(columns=[\"system:index\"], inplace=True)\n",
        "    df2[\"Not_in_Table1\"] = ~df2[\"GEOID\"].isin(df1[\"GEOID\"])\n",
        "    df_merged = df2.merge(df1[[\"GEOID\", \"Value\"]], on=\"GEOID\", how=\"left\", suffixes=(\"\", \"_from_table1\"))\n",
        "    df_merged.to_csv(f\"/content/drive/MyDrive/agriculture/MergedTables/CountiesStats_WithTarget_winter_wheat_{year}.csv\", index=False)\n",
        "    print(f\"merged year {year}\")"
      ]
    }
  ]
}